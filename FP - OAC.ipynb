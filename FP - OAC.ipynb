{
 "cells": [
  {
   "cell_type": "markdown",
   "id": "bbe68e3d-0fed-4a7e-9298-a8ee6b66f131",
   "metadata": {},
   "source": [
    "# Proyecto Final de Organización y Arquitectura de Computadora\n",
    "## Interrupciones y Control de Procesos en el Desarrollo y Ejecución de Programa\n",
    "### Ferrer, Sebastián. CED\n",
    "### Lucero, Pedro. 8-973-1067"
   ]
  },
  {
   "cell_type": "markdown",
   "id": "4b36267e-c69b-42fd-b5b7-17e5fca34310",
   "metadata": {},
   "source": [
    "### Plan:\n",
    "De lo que voy pensando podemos tener\n",
    "- Ejecución - Clase\n",
    "- anhadirInterrupcion\n",
    "- verDetalles (Tipo las puras interrupciones con cada T)\n",
    "- verResultado (Que es la tabla desarrollada)\n",
    "- verBitacora\n",
    "- (Very loco y solo si hay tiempo) meterle pandas pa csv"
   ]
  },
  {
   "cell_type": "markdown",
   "id": "1e132975-052e-4e87-bd81-ef13b05cb425",
   "metadata": {},
   "source": [
    "### Prueba pre-armada:\n",
    "- Duracion de programa = 60\n",
    "- N interrupciones con (T, duración de) = (), (), (), ()\n",
    "- T final debe ser de: [idklol]"
   ]
  },
  {
   "cell_type": "code",
   "execution_count": 1,
   "id": "b623cdca-9404-473d-b685-5d63891e371a",
   "metadata": {},
   "outputs": [],
   "source": [
    "class Interrupcion:\n",
    "    IRQ = 99\n",
    "    prioridad = 99\n",
    "    funcion = \"Default\"\n",
    "    def __init__(self, IRQ, prioridad, funcion):\n",
    "        self.IRQ = IRQ\n",
    "        self.prioridad = prioridad\n",
    "        self.funcion = funcion\n",
    "    def __repr__(self):\n",
    "        return f\"I({self.funcion})\""
   ]
  },
  {
   "cell_type": "code",
   "execution_count": 2,
   "id": "285794d7",
   "metadata": {},
   "outputs": [],
   "source": [
    "def_irqs = [0, 1, 3, 4, 5, 6, 7, 8, 9, 10, 11, 12, 13, 14, 15]\n",
    "def_prios = [1, 2, 11, 12, 13, 14, 15, 3, 4, 5, 6, 7, 8, 9, 10]\n",
    "def_funcs = [\"Reloj del sistema\", \n",
    "             \"Teclado\",\n",
    "             \"COM2 y COM4\",\n",
    "             \"COM1 y COM3\",\n",
    "             \"Libre(5)\",\n",
    "             \"Controlador Floppy - Diskette\",\n",
    "             \"Puerto Paralelo - Impresora\",\n",
    "             \"Reloj (tics) en tiempo real CMOS\",\n",
    "             \"Red, sonido, puerto SCSI\",\n",
    "             \"Libre(10)\",\n",
    "             \"Libre(11)\",\n",
    "             \"PS-mouse\",\n",
    "             \"Co-procesador matemático\",\n",
    "             \"Canal IDE primario(Disco)\",\n",
    "             \"Libre(15)\"]\n",
    "\n",
    "interrupciones = {irq: Interrupcion(irq, prio, func)\n",
    "                  for irq, prio, func in zip(def_irqs, def_prios, def_funcs)}"
   ]
  },
  {
   "cell_type": "code",
   "execution_count": 37,
   "id": "fdc2ce7c-d497-4f7f-a41c-fa925f9d9e63",
   "metadata": {},
   "outputs": [],
   "source": [
    "from collections import deque # lo usamos para implementar la pila de interrupciones\n",
    "class Ejecucion:\n",
    "    def __init__(self, duracion_programa):\n",
    "        self.duracion_programa = duracion_programa\n",
    "        self.interrupciones = [] # este es un arreglo de tuplas para manejar T's con duraciones\n",
    "        # print(self.duracion_programa)\n",
    "    \n",
    "    def anhadir_interrupcion(self, timestamp, irq, duracion): # Añadimos las interrupciones y ordenamos\n",
    "        # Interrupciones: (Timestamp redondeado a 2 decimales | IRQ de la int. | duración (en seg.) de la int.)\n",
    "        self.interrupciones.append((round(timestamp, 2), interrupciones[irq], duracion))\n",
    "        self.interrupciones.sort(key=lambda int: int[0])\n",
    "\n",
    "    def calcular(self):\n",
    "        cola = deque() # cola: (prioridad, t_restante)\n",
    "        cola.append([999, self.duracion_programa])\n",
    "        \n",
    "        T = 0\n",
    "        int_index = 0\n",
    "        while len(cola) > 0 and int_index < len(self.interrupciones):\n",
    "            print(T)\n",
    "            actual = cola.pop()\n",
    "            sig_T = self.interrupciones[int_index][0]\n",
    "            sig_prio = self.interrupciones[int_index][1].prioridad\n",
    "            sig_t_res = self.interrupciones[int_index][2]\n",
    "            siguiente = [sig_prio, sig_t_res]\n",
    "            int_index += 1\n",
    "            \n",
    "            delta_T = sig_T - T\n",
    "            \n",
    "            if actual[1] - delta_T <= 0:\n",
    "                T += actual[1]\n",
    "                continue\n",
    "            \n",
    "            actual[1] -= sig_T - T\n",
    "            T += sig_T\n",
    "            \n",
    "            # 1. Prio sig < actual → sig. \"gana\"\n",
    "            if siguiente[0] < actual[0]:\n",
    "                cola.append(actual)\n",
    "                cola.append(siguiente)\n",
    "            \n",
    "            # 2. Prio sig > actual → actual \"gana\"\n",
    "            if siguiente[0] > actual[0]:\n",
    "                cola.append(siguiente)\n",
    "                cola.append(actual)\n",
    "            \n",
    "            \n",
    "        print(cola)"
   ]
  },
  {
   "cell_type": "code",
   "execution_count": 38,
   "id": "4899e5b6-a6fc-4696-a56f-64d430253d82",
   "metadata": {},
   "outputs": [
    {
     "data": {
      "text/plain": [
       "[(3, I(Canal IDE primario(Disco)), 5),\n",
       " (5, I(Red, sonido, puerto SCSI), 10),\n",
       " (10, I(Puerto Paralelo - Impresora), 8),\n",
       " (24, I(Canal IDE primario(Disco)), 12),\n",
       " (42, I(Red, sonido, puerto SCSI), 5)]"
      ]
     },
     "execution_count": 38,
     "metadata": {},
     "output_type": "execute_result"
    }
   ],
   "source": [
    "# Prueba pre armada, con lo definido antes\n",
    "prueba1 = Ejecucion(15)\n",
    "prueba1.anhadir_interrupcion(3, 14, 5)\n",
    "prueba1.anhadir_interrupcion(5, 9, 10)\n",
    "prueba1.anhadir_interrupcion(10, 7, 8)\n",
    "prueba1.anhadir_interrupcion(24, 14, 12)\n",
    "prueba1.anhadir_interrupcion(42, 9, 5)\n",
    "prueba1.interrupciones"
   ]
  },
  {
   "cell_type": "code",
   "execution_count": 39,
   "id": "fe5d1f89-8995-4247-9b0a-251888b66232",
   "metadata": {},
   "outputs": [
    {
     "name": "stdout",
     "output_type": "stream",
     "text": [
      "0\n",
      "3\n",
      "8\n",
      "18\n",
      "42\n",
      "deque([[999, 12], [9, 3], [15, 8], [9, 12]])\n"
     ]
    }
   ],
   "source": [
    "prueba1.calcular()"
   ]
  },
  {
   "cell_type": "code",
   "execution_count": 36,
   "id": "87c5d438",
   "metadata": {},
   "outputs": [],
   "source": [
    "a = deque()\n",
    "a.append(1)\n",
    "a.append(2)\n",
    "a.append(3)"
   ]
  },
  {
   "cell_type": "code",
   "execution_count": 9,
   "id": "5d424bfc",
   "metadata": {},
   "outputs": [
    {
     "data": {
      "text/plain": [
       "3"
      ]
     },
     "execution_count": 9,
     "metadata": {},
     "output_type": "execute_result"
    }
   ],
   "source": [
    "b = a.pop()\n",
    "b"
   ]
  },
  {
   "cell_type": "code",
   "execution_count": null,
   "id": "b3ee3040",
   "metadata": {},
   "outputs": [],
   "source": [
    "        cola = deque() # cola: (prioridad, t_restante)\n",
    "        # Iniciamos ↓ en 0\n",
    "        recorrido = 0 + self.interrupciones[0][0] # El programa recorre hasta la primera int.\n",
    "        \n",
    "        T = recorrido\n",
    "        for orden, inte in enumerate(self.interrupciones):\n",
    "            siguiente = self.interrupciones[orden+1]\n",
    "            if len(cola) == 0:\n",
    "                t_restante = T + inte[2] - siguiente[0]\n",
    "                if t_restante > 0:\n",
    "                    cola.append((inte[1].prioridad, t_restante))\n",
    "            else:\n",
    "                if siguiente[1].prioridad > inte[1].prioridad:\n",
    "                    # cola.append((inte[1].prioridad, t_restante))\n",
    "                else:"
   ]
  }
 ],
 "metadata": {
  "kernelspec": {
   "display_name": "Python 3 (ipykernel)",
   "language": "python",
   "name": "python3"
  },
  "language_info": {
   "codemirror_mode": {
    "name": "ipython",
    "version": 3
   },
   "file_extension": ".py",
   "mimetype": "text/x-python",
   "name": "python",
   "nbconvert_exporter": "python",
   "pygments_lexer": "ipython3",
   "version": "3.11.7"
  }
 },
 "nbformat": 4,
 "nbformat_minor": 5
}
