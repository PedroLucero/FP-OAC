{
 "cells": [
  {
   "cell_type": "markdown",
   "id": "bbe68e3d-0fed-4a7e-9298-a8ee6b66f131",
   "metadata": {},
   "source": [
    "# Proyecto Final de Organización y Arquitectura de Computadora\n",
    "## Interrupciones y Control de Procesos en el Desarrollo y Ejecución de Programa\n",
    "### Ferrer, Sebastián. E-8-211301\n",
    "### Lucero, Pedro. 8-973-1067"
   ]
  },
  {
   "cell_type": "markdown",
   "id": "4b36267e-c69b-42fd-b5b7-17e5fca34310",
   "metadata": {},
   "source": [
    "### Plan:\n",
    "- Interrupción - Clase\n",
    "- Ejecución - Clase\n",
    "- anhadir_interrupcion\n",
    "- ver_detalles (Tipo las puras interrupciones con cada T)\n",
    "- calcular_resultado (Hacer las operaciones para los próximos dos)\n",
    "- ver_resultado (Ver la tabla de control de procesos desarrollada)\n",
    "- ver_bitacora"
   ]
  },
  {
   "cell_type": "code",
   "execution_count": 26,
   "id": "cd9dfb51",
   "metadata": {},
   "outputs": [],
   "source": [
    "from collections import deque # lo usamos para implementar la pila de interrupciones"
   ]
  },
  {
   "cell_type": "code",
   "execution_count": 27,
   "id": "b623cdca-9404-473d-b685-5d63891e371a",
   "metadata": {},
   "outputs": [],
   "source": [
    "class Interrupcion:\n",
    "    def __init__(self, IRQ, prioridad, funcion):\n",
    "        self.IRQ = IRQ\n",
    "        self.prioridad = prioridad\n",
    "        self.funcion = funcion\n",
    "    def __repr__(self):\n",
    "        return f\"I({self.funcion})\""
   ]
  },
  {
   "cell_type": "code",
   "execution_count": 28,
   "id": "285794d7",
   "metadata": {},
   "outputs": [],
   "source": [
    "def_irqs = [0, 1, 3, 4, 5, 6, 7, 8, 9, 10, 11, 12, 13, 14, 15]\n",
    "def_prios = [1, 2, 11, 12, 13, 14, 15, 3, 4, 5, 6, 7, 8, 9, 10]\n",
    "def_funcs = [\"Reloj del sistema\", \n",
    "             \"Teclado\",\n",
    "             \"COM2 y COM4\",\n",
    "             \"COM1 y COM3\",\n",
    "             \"Libre(5)\",\n",
    "             \"Controlador Floppy - Diskette\",\n",
    "             \"Puerto Paralelo - Impresora\",\n",
    "             \"Reloj (tics) en tiempo real CMOS\",\n",
    "             \"Red, sonido, puerto SCSI\",\n",
    "             \"Libre(10)\",\n",
    "             \"Libre(11)\",\n",
    "             \"PS-mouse\",\n",
    "             \"Co-procesador matemático\",\n",
    "             \"Canal IDE primario(Disco)\",\n",
    "             \"Libre(15)\"]\n",
    "\n",
    "interrupciones = {irq: Interrupcion(irq, prio, func)\n",
    "                  for irq, prio, func in zip(def_irqs, def_prios, def_funcs)}"
   ]
  },
  {
   "cell_type": "code",
   "execution_count": 29,
   "id": "34083e5c",
   "metadata": {},
   "outputs": [],
   "source": [
    "class Ejecucion:\n",
    "    def __init__(self, duracion_programa, T_inicial):\n",
    "        self.duracion_programa = duracion_programa\n",
    "        self.interrupciones = [] # este es un arreglo de tuplas para manejar T's con duraciones\n",
    "        self.T_inicial = T_inicial\n",
    "        self.control_procesos = []\n",
    "        self.bitacora = []\n",
    "        # print(self.duracion_programa)\n",
    "    \n",
    "    def anhadir_interrupcion(self, timestamp, irq, duracion): # Añadimos las interrupciones y ordenamos\n",
    "        # Interrupciones: (Timestamp redondeado a 2 decimales | IRQ de la int. | duración (en seg.) de la int.)\n",
    "        self.interrupciones.append((round(timestamp, 2), interrupciones[irq], duracion))\n",
    "        self.interrupciones.sort(key=lambda int: int[0])\n",
    "\n",
    "    def ver_resultado(self):\n",
    "        for nombre, T_o, T_f, _, _ in self.control_procesos:\n",
    "            espacio_res = len(max(def_funcs, key=lambda x: len(x)))\n",
    "            print(nombre.center(espacio_res), end=\"|\")\n",
    "            print(f\"T={T_o}\".center(5), end=\" | \")\n",
    "            print(f\"T={T_f}\".center(5))\n",
    "        \n",
    "    def ver_bitacora(self, tiempos):\n",
    "        tiempos.sort()\n",
    "        bitacora = []\n",
    "        for pos, proceso in enumerate(self.control_procesos):\n",
    "            for T in tiempos:\n",
    "                if T > proceso[2] or T < proceso[1]:\n",
    "                    continue\n",
    "                bitacora.append([T, proceso[0], proceso[3], f\"{proceso[1]} a {proceso[2]}\", proceso[4]])\n",
    "            \n",
    "        espacio_res = len(max(def_funcs, key=lambda x: len(x)))\n",
    "        print(\"T\".center(3), end=\" | \")\n",
    "        print(\"Funcion\".center(espacio_res), end=\" | \")\n",
    "        print(\"I.\", end=\" | \")\n",
    "        print(\"Rango T\".center(7), end=\" | \")\n",
    "        print(\"TR\".center(2))\n",
    "        for fila in bitacora:\n",
    "            print(f\"{fila[0]}\".center(3), end=\" | \")\n",
    "            print(f\"{fila[1]}\".center(espacio_res), end=\" | \")\n",
    "            print(fila[2], end=\" | \")\n",
    "            print(f\"{fila[3]}\".center(7), end=\" | \")\n",
    "            print(f\"{fila[4]}\".center(2))\n",
    "              \n",
    "    def calcular_resultado(self):\n",
    "        pila = deque() # pila: [prioridad, t_restante]\n",
    "        pila.append([999, self.duracion_programa, \"Programa\"])\n",
    "        \n",
    "        control_procesos = []\n",
    "        \n",
    "        T = self.T_inicial\n",
    "        int_index = 0\n",
    "        while len(pila) > 0 and int_index < len(self.interrupciones):\n",
    "            actual = pila.pop()\n",
    "            sig_T = self.interrupciones[int_index][0]\n",
    "            sig_prio = self.interrupciones[int_index][1].prioridad\n",
    "            sig_name = self.interrupciones[int_index][1].funcion\n",
    "            sig_t_res = self.interrupciones[int_index][2]\n",
    "            siguiente = [sig_prio, sig_t_res, sig_name]\n",
    "            int_index += 1\n",
    "            \n",
    "            delta_T = sig_T - T\n",
    "            \n",
    "            if actual[1] - delta_T <= 0:\n",
    "                prev_T = T\n",
    "                T += actual[1]\n",
    "                int_index -= 1\n",
    "                control_procesos.append((actual[2], prev_T, T, \"No\", 0))\n",
    "                continue\n",
    "            \n",
    "            actual[1] -= delta_T\n",
    "            \n",
    "            prev_T = T\n",
    "            T += delta_T\n",
    "            control_procesos.append((actual[2], prev_T, T, \"Si\", actual[1]))\n",
    "            \n",
    "            # 1. Prio sig < actual → sig. \"gana\"\n",
    "            if siguiente[0] < actual[0]:\n",
    "                pila.append(actual)\n",
    "                pila.append(siguiente)\n",
    "            \n",
    "            # 2. Prio sig > actual → actual \"gana\"\n",
    "            if siguiente[0] > actual[0]:\n",
    "                temp_q = deque()\n",
    "                temp_q.append(actual)\n",
    "                while pila[-1][0] < siguiente[0]:\n",
    "                    temp_q.append(pila.pop())\n",
    "                temp_q.append(siguiente)\n",
    "                while temp_q:\n",
    "                    pila.append(temp_q.pop())\n",
    "        \n",
    "        \n",
    "        while len(pila) > 0:\n",
    "            actual = pila.pop()\n",
    "            prev_T = T\n",
    "            T += actual[1]\n",
    "            control_procesos.append((actual[2], prev_T, T, \"No\", 0))\n",
    "        \n",
    "        proc_index = 0\n",
    "        while proc_index+1 < len(control_procesos):\n",
    "            proceso = control_procesos[proc_index]\n",
    "            sig_proc = control_procesos[proc_index+1]\n",
    "            \n",
    "            if proceso[0] == sig_proc[0]:\n",
    "                proceso = (proceso[0], proceso[1], sig_proc[2], sig_proc[3], sig_proc[4])\n",
    "                self.control_procesos.append(proceso)\n",
    "                proc_index += 2\n",
    "                continue\n",
    "            \n",
    "            if proceso[1] == proceso[2]:\n",
    "                proc_index += 1\n",
    "                continue\n",
    "            \n",
    "            self.control_procesos.append(proceso)\n",
    "            proc_index += 1\n",
    "        self.control_procesos.append(control_procesos[proc_index])"
   ]
  },
  {
   "cell_type": "markdown",
   "id": "1e132975-052e-4e87-bd81-ef13b05cb425",
   "metadata": {},
   "source": [
    "### Prueba pre-armada #1:\n",
    "- Duracion de programa = 15\n",
    "- 5 interrupciones:\n",
    "  - T=3 | disco | 5seg\n",
    "  - T=5 | red | 10seg\n",
    "  - T=10 | impresora | 8seg\n",
    "  - T=24 | disco | 12seg\n",
    "  - T=42 | red | 5seg\n",
    "- T final debe ser de: 55"
   ]
  },
  {
   "cell_type": "code",
   "execution_count": 30,
   "id": "4899e5b6-a6fc-4696-a56f-64d430253d82",
   "metadata": {
    "scrolled": true
   },
   "outputs": [
    {
     "data": {
      "text/plain": [
       "[(3, I(Canal IDE primario(Disco)), 5),\n",
       " (5, I(Red, sonido, puerto SCSI), 10),\n",
       " (10, I(Puerto Paralelo - Impresora), 8),\n",
       " (24, I(Canal IDE primario(Disco)), 12),\n",
       " (42, I(Red, sonido, puerto SCSI), 5)]"
      ]
     },
     "execution_count": 30,
     "metadata": {},
     "output_type": "execute_result"
    }
   ],
   "source": [
    "# Prueba 1 pre armada, con lo definido\n",
    "prueba1 = Ejecucion(15, 0)\n",
    "prueba1.anhadir_interrupcion(3, 14, 5)\n",
    "prueba1.anhadir_interrupcion(5, 9, 10)\n",
    "prueba1.anhadir_interrupcion(10, 7, 8)\n",
    "prueba1.anhadir_interrupcion(24, 14, 12)\n",
    "prueba1.anhadir_interrupcion(42, 9, 5)\n",
    "prueba1.interrupciones"
   ]
  },
  {
   "cell_type": "code",
   "execution_count": 31,
   "id": "fe5d1f89-8995-4247-9b0a-251888b66232",
   "metadata": {},
   "outputs": [
    {
     "name": "stdout",
     "output_type": "stream",
     "text": [
      "            Programa            | T=0  |  T=3 \n",
      "   Canal IDE primario(Disco)    | T=3  |  T=5 \n",
      "    Red, sonido, puerto SCSI    | T=5  |  T=15\n",
      "   Canal IDE primario(Disco)    | T=15 |  T=18\n",
      "  Puerto Paralelo - Impresora   | T=18 |  T=24\n",
      "   Canal IDE primario(Disco)    | T=24 |  T=36\n",
      "  Puerto Paralelo - Impresora   | T=36 |  T=38\n",
      "            Programa            | T=38 |  T=42\n",
      "    Red, sonido, puerto SCSI    | T=42 |  T=47\n",
      "            Programa            | T=47 |  T=55\n"
     ]
    }
   ],
   "source": [
    "prueba1.calcular_resultado()\n",
    "prueba1.ver_resultado()"
   ]
  },
  {
   "cell_type": "code",
   "execution_count": 32,
   "id": "c7e818d0",
   "metadata": {},
   "outputs": [
    {
     "name": "stdout",
     "output_type": "stream",
     "text": [
      " T  |             Funcion              | I. | Rango T | TR\n",
      " 8  |     Red, sonido, puerto SCSI     | No |  5 a 15 | 0 \n",
      " 17 |    Canal IDE primario(Disco)     | No | 15 a 18 | 0 \n",
      " 20 |   Puerto Paralelo - Impresora    | Si | 18 a 24 | 2 \n",
      " 39 |             Programa             | Si | 38 a 42 | 8 \n",
      " 45 |     Red, sonido, puerto SCSI     | No | 42 a 47 | 0 \n",
      " 50 |             Programa             | No | 47 a 55 | 0 \n"
     ]
    }
   ],
   "source": [
    "prueba1.ver_bitacora([8, 17, 20, 39, 45, 50])"
   ]
  },
  {
   "cell_type": "markdown",
   "id": "6a82f986",
   "metadata": {},
   "source": [
    "### Prueba pre-armada #2:\n",
    "- Duracion de programa = 30\n",
    "- 5 interrupciones:\n",
    "  - T=6 | COM 1 | 5seg\n",
    "  - T=15 | impresora | 8seg\n",
    "  - T=20 | disco | 10seg\n",
    "  - T=32 | COM 1 | 4seg\n",
    "  - T=36 | Teclado | 3seg\n",
    "- T final debe ser de: 60"
   ]
  },
  {
   "cell_type": "code",
   "execution_count": 33,
   "id": "de11bba7",
   "metadata": {},
   "outputs": [
    {
     "data": {
      "text/plain": [
       "[(6, I(COM1 y COM3), 5),\n",
       " (15, I(Puerto Paralelo - Impresora), 8),\n",
       " (20, I(Canal IDE primario(Disco)), 10),\n",
       " (32, I(COM1 y COM3), 4),\n",
       " (36, I(Teclado), 3)]"
      ]
     },
     "execution_count": 33,
     "metadata": {},
     "output_type": "execute_result"
    }
   ],
   "source": [
    "# Prueba 1 pre armada, con lo definido antes\n",
    "prueba2 = Ejecucion(30, 0)\n",
    "prueba2.anhadir_interrupcion(6, 4, 5)\n",
    "prueba2.anhadir_interrupcion(15, 7, 8)\n",
    "prueba2.anhadir_interrupcion(20, 14, 10)\n",
    "prueba2.anhadir_interrupcion(32, 4, 4)\n",
    "prueba2.anhadir_interrupcion(36, 1, 3)\n",
    "prueba2.interrupciones"
   ]
  },
  {
   "cell_type": "code",
   "execution_count": 34,
   "id": "da5ecbe0",
   "metadata": {},
   "outputs": [
    {
     "name": "stdout",
     "output_type": "stream",
     "text": [
      "            Programa            | T=0  |  T=6 \n",
      "          COM1 y COM3           | T=6  |  T=11\n",
      "            Programa            | T=11 |  T=15\n",
      "  Puerto Paralelo - Impresora   | T=15 |  T=20\n",
      "   Canal IDE primario(Disco)    | T=20 |  T=30\n",
      "  Puerto Paralelo - Impresora   | T=30 |  T=32\n",
      "          COM1 y COM3           | T=32 |  T=36\n",
      "            Teclado             | T=36 |  T=39\n",
      "  Puerto Paralelo - Impresora   | T=39 |  T=40\n",
      "            Programa            | T=40 |  T=60\n"
     ]
    }
   ],
   "source": [
    "prueba2.calcular_resultado()\n",
    "prueba2.ver_resultado()"
   ]
  },
  {
   "cell_type": "code",
   "execution_count": 35,
   "id": "20b3fdbe",
   "metadata": {
    "scrolled": true
   },
   "outputs": [
    {
     "name": "stdout",
     "output_type": "stream",
     "text": [
      " T  |             Funcion              | I. | Rango T | TR\n",
      " 8  |           COM1 y COM3            | No |  6 a 11 | 0 \n",
      " 12 |             Programa             | Si | 11 a 15 | 20\n",
      " 18 |   Puerto Paralelo - Impresora    | Si | 15 a 20 | 3 \n",
      " 25 |    Canal IDE primario(Disco)     | No | 20 a 30 | 0 \n",
      " 31 |   Puerto Paralelo - Impresora    | Si | 30 a 32 | 1 \n",
      " 35 |           COM1 y COM3            | No | 32 a 36 | 0 \n"
     ]
    }
   ],
   "source": [
    "prueba2.ver_bitacora([8, 12, 18, 25, 31, 35])"
   ]
  },
  {
   "cell_type": "markdown",
   "id": "a19d283d",
   "metadata": {},
   "source": [
    "### Prueba en vivo:\n",
    "- T inicial de = _\n",
    "- Duracion de programa = _\n",
    "- _ interrupciones:\n",
    "  - T=_ | _ | _seg\n",
    "  - T=_ | _ | _seg\n",
    "  - T=_ | _ | _seg\n",
    "  - T=_ | _ | _seg\n",
    "  - T=_ | _ | _seg\n",
    "- T final debe ser de: _"
   ]
  },
  {
   "cell_type": "markdown",
   "id": "f8247f6e",
   "metadata": {},
   "source": [
    "### Ver las funciones por IRQ"
   ]
  },
  {
   "cell_type": "code",
   "execution_count": 15,
   "id": "5ca4457f",
   "metadata": {},
   "outputs": [
    {
     "name": "stdout",
     "output_type": "stream",
     "text": [
      "IRQ: 0 | Función: Reloj del sistema\n",
      "IRQ: 1 | Función: Teclado\n",
      "IRQ: 3 | Función: COM2 y COM4\n",
      "IRQ: 4 | Función: COM1 y COM3\n",
      "IRQ: 5 | Función: Libre(5)\n",
      "IRQ: 6 | Función: Controlador Floppy - Diskette\n",
      "IRQ: 7 | Función: Puerto Paralelo - Impresora\n",
      "IRQ: 8 | Función: Reloj (tics) en tiempo real CMOS\n",
      "IRQ: 9 | Función: Red, sonido, puerto SCSI\n",
      "IRQ: 10 | Función: Libre(10)\n",
      "IRQ: 11 | Función: Libre(11)\n",
      "IRQ: 12 | Función: PS-mouse\n",
      "IRQ: 13 | Función: Co-procesador matemático\n",
      "IRQ: 14 | Función: Canal IDE primario(Disco)\n",
      "IRQ: 15 | Función: Libre(15)\n"
     ]
    }
   ],
   "source": [
    "for irq, func in zip(def_irqs, def_funcs):\n",
    "    print(\"IRQ:\", irq, \"| Función:\", func)"
   ]
  },
  {
   "cell_type": "markdown",
   "id": "fdb8856b",
   "metadata": {},
   "source": [
    "### Cargar datos:\n",
    "#### Inicializar Ejecución(Duración_Programa, T_inicial)"
   ]
  },
  {
   "cell_type": "code",
   "execution_count": 38,
   "id": "c9f93e14",
   "metadata": {},
   "outputs": [],
   "source": [
    "prueba_v = Ejecucion(10, 0)"
   ]
  },
  {
   "cell_type": "markdown",
   "id": "c6899840",
   "metadata": {},
   "source": [
    "### Cargar datos:\n",
    "#### anhadir_interrupcion(Tiempo, IRQ, Duración)"
   ]
  },
  {
   "cell_type": "code",
   "execution_count": 39,
   "id": "6af855d5",
   "metadata": {},
   "outputs": [
    {
     "data": {
      "text/plain": [
       "[(4, I(COM1 y COM3), 8),\n",
       " (9, I(Co-procesador matemático), 5),\n",
       " (12, I(Controlador Floppy - Diskette), 15),\n",
       " (25, I(Red, sonido, puerto SCSI), 12),\n",
       " (35, I(COM1 y COM3), 3),\n",
       " (43, I(Co-procesador matemático), 5)]"
      ]
     },
     "execution_count": 39,
     "metadata": {},
     "output_type": "execute_result"
    }
   ],
   "source": [
    "prueba_v.anhadir_interrupcion(4, 4, 8)\n",
    "prueba_v.anhadir_interrupcion(9, 13, 5)\n",
    "prueba_v.anhadir_interrupcion(12, 6, 15)\n",
    "prueba_v.anhadir_interrupcion(25, 9, 12)\n",
    "prueba_v.anhadir_interrupcion(35, 4, 3)\n",
    "prueba_v.anhadir_interrupcion(43, 13, 5)\n",
    "prueba_v.interrupciones"
   ]
  },
  {
   "cell_type": "markdown",
   "id": "83db2f66",
   "metadata": {},
   "source": [
    "### Calcular y mostrar control de procesos:"
   ]
  },
  {
   "cell_type": "code",
   "execution_count": 40,
   "id": "ff35a2a9",
   "metadata": {},
   "outputs": [
    {
     "name": "stdout",
     "output_type": "stream",
     "text": [
      "            Programa            | T=0  |  T=4 \n",
      "          COM1 y COM3           | T=4  |  T=9 \n",
      "    Co-procesador matemático    | T=9  |  T=14\n",
      "          COM1 y COM3           | T=14 |  T=17\n",
      " Controlador Floppy - Diskette  | T=17 |  T=25\n",
      "    Red, sonido, puerto SCSI    | T=25 |  T=37\n",
      "          COM1 y COM3           | T=37 |  T=40\n",
      " Controlador Floppy - Diskette  | T=40 |  T=43\n",
      "    Co-procesador matemático    | T=43 |  T=48\n",
      " Controlador Floppy - Diskette  | T=48 |  T=52\n",
      "            Programa            | T=52 |  T=58\n"
     ]
    }
   ],
   "source": [
    "prueba_v.calcular_resultado()\n",
    "prueba_v.ver_resultado()"
   ]
  },
  {
   "cell_type": "markdown",
   "id": "500f0eb9",
   "metadata": {},
   "source": [
    "### Mostrar bitácora ([arreglo_tiempos]):"
   ]
  },
  {
   "cell_type": "code",
   "execution_count": 41,
   "id": "e72a2dd9",
   "metadata": {},
   "outputs": [
    {
     "name": "stdout",
     "output_type": "stream",
     "text": [
      " T  |             Funcion              | I. | Rango T | TR\n",
      " 7  |           COM1 y COM3            | Si |  4 a 9  | 3 \n",
      " 10 |     Co-procesador matemático     | No |  9 a 14 | 0 \n",
      " 23 |  Controlador Floppy - Diskette   | Si | 17 a 25 | 7 \n",
      " 39 |           COM1 y COM3            | No | 37 a 40 | 0 \n",
      " 45 |     Co-procesador matemático     | No | 43 a 48 | 0 \n",
      " 50 |  Controlador Floppy - Diskette   | No | 48 a 52 | 0 \n"
     ]
    }
   ],
   "source": [
    "prueba_v.ver_bitacora([7, 10, 23, 39, 45, 50])"
   ]
  },
  {
   "cell_type": "code",
   "execution_count": null,
   "id": "2012e92f",
   "metadata": {},
   "outputs": [],
   "source": []
  }
 ],
 "metadata": {
  "kernelspec": {
   "display_name": "Python 3 (ipykernel)",
   "language": "python",
   "name": "python3"
  },
  "language_info": {
   "codemirror_mode": {
    "name": "ipython",
    "version": 3
   },
   "file_extension": ".py",
   "mimetype": "text/x-python",
   "name": "python",
   "nbconvert_exporter": "python",
   "pygments_lexer": "ipython3",
   "version": "3.11.7"
  }
 },
 "nbformat": 4,
 "nbformat_minor": 5
}
