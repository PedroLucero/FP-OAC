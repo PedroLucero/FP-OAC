{
 "cells": [
  {
   "cell_type": "markdown",
   "id": "bbe68e3d-0fed-4a7e-9298-a8ee6b66f131",
   "metadata": {},
   "source": [
    "# Proyecto Final de Organización y Arquitectura de Computadora\n",
    "## Interrupciones y Control de Procesos en el Desarrollo y Ejecución de Programa\n",
    "### Ferrer, Sebastián. E-8-211301\n",
    "### Lucero, Pedro. 8-973-1067"
   ]
  },
  {
   "cell_type": "markdown",
   "id": "4b36267e-c69b-42fd-b5b7-17e5fca34310",
   "metadata": {},
   "source": [
    "### Plan:\n",
    "De lo que voy pensando podemos tener\n",
    "- Interrupción - Clase\n",
    "- Ejecución - Clase\n",
    "- anhadir_interrupcion\n",
    "- ver_detalles (Tipo las puras interrupciones con cada T)\n",
    "- ver_resultado (Que es la tabla desarrollada)\n",
    "- ver_bitacora\n",
    "- (Very loco y solo si hay tiempo) meterle pandas pa csv"
   ]
  },
  {
   "cell_type": "code",
   "execution_count": 1,
   "id": "b623cdca-9404-473d-b685-5d63891e371a",
   "metadata": {},
   "outputs": [],
   "source": [
    "class Interrupcion:\n",
    "    def __init__(self, IRQ, prioridad, funcion):\n",
    "        self.IRQ = IRQ\n",
    "        self.prioridad = prioridad\n",
    "        self.funcion = funcion\n",
    "    def __repr__(self):\n",
    "        return f\"I({self.funcion})\""
   ]
  },
  {
   "cell_type": "code",
   "execution_count": 2,
   "id": "285794d7",
   "metadata": {},
   "outputs": [],
   "source": [
    "def_irqs = [0, 1, 3, 4, 5, 6, 7, 8, 9, 10, 11, 12, 13, 14, 15]\n",
    "def_prios = [1, 2, 11, 12, 13, 14, 15, 3, 4, 5, 6, 7, 8, 9, 10]\n",
    "def_funcs = [\"Reloj del sistema\", \n",
    "             \"Teclado\",\n",
    "             \"COM2 y COM4\",\n",
    "             \"COM1 y COM3\",\n",
    "             \"Libre(5)\",\n",
    "             \"Controlador Floppy - Diskette\",\n",
    "             \"Puerto Paralelo - Impresora\",\n",
    "             \"Reloj (tics) en tiempo real CMOS\",\n",
    "             \"Red, sonido, puerto SCSI\",\n",
    "             \"Libre(10)\",\n",
    "             \"Libre(11)\",\n",
    "             \"PS-mouse\",\n",
    "             \"Co-procesador matemático\",\n",
    "             \"Canal IDE primario(Disco)\",\n",
    "             \"Libre(15)\"]\n",
    "\n",
    "interrupciones = {irq: Interrupcion(irq, prio, func)\n",
    "                  for irq, prio, func in zip(def_irqs, def_prios, def_funcs)}"
   ]
  },
  {
   "cell_type": "code",
   "execution_count": 14,
   "id": "fdc2ce7c-d497-4f7f-a41c-fa925f9d9e63",
   "metadata": {},
   "outputs": [],
   "source": [
    "from collections import deque # lo usamos para implementar la pila de interrupciones\n",
    "class Ejecucion:\n",
    "    def __init__(self, duracion_programa):\n",
    "        self.duracion_programa = duracion_programa\n",
    "        self.interrupciones = [] # este es un arreglo de tuplas para manejar T's con duraciones\n",
    "        # print(self.duracion_programa)\n",
    "    \n",
    "    def anhadir_interrupcion(self, timestamp, irq, duracion): # Añadimos las interrupciones y ordenamos\n",
    "        # Interrupciones: (Timestamp redondeado a 2 decimales | IRQ de la int. | duración (en seg.) de la int.)\n",
    "        self.interrupciones.append((round(timestamp, 2), interrupciones[irq], duracion))\n",
    "        self.interrupciones.sort(key=lambda int: int[0])\n",
    "\n",
    "    def ver_resultado(self):\n",
    "        pila = deque() # pila: [prioridad, t_restante]\n",
    "        pila.append([999, self.duracion_programa, \"Programa\"])\n",
    "        \n",
    "        T = 0\n",
    "        int_index = 0\n",
    "        while len(pila) > 0 and int_index < len(self.interrupciones):\n",
    "#             print(pila)\n",
    "            actual = pila.pop()\n",
    "            print(actual[2], end= \" \")\n",
    "            print(\"T=\", T, end=\" \")\n",
    "#             print(actual, \"\")\n",
    "            sig_T = self.interrupciones[int_index][0]\n",
    "            sig_prio = self.interrupciones[int_index][1].prioridad\n",
    "            sig_name = self.interrupciones[int_index][1].funcion\n",
    "            sig_t_res = self.interrupciones[int_index][2]\n",
    "            siguiente = [sig_prio, sig_t_res, sig_name]\n",
    "            int_index += 1\n",
    "            \n",
    "            delta_T = sig_T - T\n",
    "#             print(\"delta:\", delta_T, end=\" \")\n",
    "            \n",
    "            if actual[1] - delta_T <= 0:\n",
    "            #→\n",
    "                T += actual[1]\n",
    "                print(\"T=\", T)\n",
    "                int_index -= 1\n",
    "                continue\n",
    "            \n",
    "            actual[1] -= delta_T\n",
    "            #→\n",
    "            T += delta_T\n",
    "            \n",
    "            print(\"T=\", T)\n",
    "            \n",
    "            # 1. Prio sig < actual → sig. \"gana\"\n",
    "            if siguiente[0] < actual[0]:\n",
    "                pila.append(actual)\n",
    "                pila.append(siguiente)\n",
    "            \n",
    "            # 2. Prio sig > actual → actual \"gana\"\n",
    "            if siguiente[0] > actual[0]:\n",
    "                temp_q = deque()\n",
    "                temp_q.append(actual)\n",
    "                while pila[-1][0] < siguiente[0]:\n",
    "                    temp_q.append(pila.pop())\n",
    "                temp_q.append(siguiente)\n",
    "                while temp_q:\n",
    "                    pila.append(temp_q.pop())\n",
    "#                 pila.append(siguiente)\n",
    "#                 pila.append(actual)\n",
    "            \n",
    "        \n",
    "        \n",
    "        while len(pila) > 0:\n",
    "            actual = pila.pop()\n",
    "            print(actual[2], end= \" \")\n",
    "            print(\"T=\", T, end=\" \")\n",
    "            T += actual[1]\n",
    "            print(\"T=\", T)\n",
    "            "
   ]
  },
  {
   "cell_type": "markdown",
   "id": "1e132975-052e-4e87-bd81-ef13b05cb425",
   "metadata": {},
   "source": [
    "### Prueba pre-armada #1:\n",
    "- Duracion de programa = 15\n",
    "- 5 interrupciones:\n",
    "  - T=3 | disco | 5seg\n",
    "  - T=5 | red | 10seg\n",
    "  - T=10 | impresora | 8seg\n",
    "  - T=24 | disco | 12seg\n",
    "  - T=42 | red | 5seg\n",
    "- T final debe ser de: 55"
   ]
  },
  {
   "cell_type": "code",
   "execution_count": 15,
   "id": "4899e5b6-a6fc-4696-a56f-64d430253d82",
   "metadata": {},
   "outputs": [
    {
     "data": {
      "text/plain": [
       "[(3, I(Canal IDE primario(Disco)), 5),\n",
       " (5, I(Red, sonido, puerto SCSI), 10),\n",
       " (10, I(Puerto Paralelo - Impresora), 8),\n",
       " (24, I(Canal IDE primario(Disco)), 12),\n",
       " (42, I(Red, sonido, puerto SCSI), 5)]"
      ]
     },
     "execution_count": 15,
     "metadata": {},
     "output_type": "execute_result"
    }
   ],
   "source": [
    "# Prueba 1 pre armada, con lo definido\n",
    "prueba1 = Ejecucion(15)\n",
    "prueba1.anhadir_interrupcion(3, 14, 5)\n",
    "prueba1.anhadir_interrupcion(5, 9, 10)\n",
    "prueba1.anhadir_interrupcion(10, 7, 8)\n",
    "prueba1.anhadir_interrupcion(24, 14, 12)\n",
    "prueba1.anhadir_interrupcion(42, 9, 5)\n",
    "prueba1.interrupciones"
   ]
  },
  {
   "cell_type": "code",
   "execution_count": 16,
   "id": "fe5d1f89-8995-4247-9b0a-251888b66232",
   "metadata": {},
   "outputs": [
    {
     "name": "stdout",
     "output_type": "stream",
     "text": [
      "Programa T= 0 T= 3\n",
      "Canal IDE primario(Disco) T= 3 T= 5\n",
      "Red, sonido, puerto SCSI T= 5 T= 10\n",
      "Red, sonido, puerto SCSI T= 10 T= 15\n",
      "Canal IDE primario(Disco) T= 15 T= 18\n",
      "Puerto Paralelo - Impresora T= 18 T= 24\n",
      "Canal IDE primario(Disco) T= 24 T= 36\n",
      "Puerto Paralelo - Impresora T= 36 T= 38\n",
      "Programa T= 38 T= 42\n",
      "Red, sonido, puerto SCSI T= 42 T= 47\n",
      "Programa T= 47 T= 55\n"
     ]
    }
   ],
   "source": [
    "prueba1.ver_resultado()"
   ]
  },
  {
   "cell_type": "markdown",
   "id": "6a82f986",
   "metadata": {},
   "source": [
    "### Prueba pre-armada #2:\n",
    "- Duracion de programa = 30\n",
    "- 5 interrupciones:\n",
    "  - T=6 | COM 1 | 5seg\n",
    "  - T=15 | impresora | 8seg\n",
    "  - T=20 | disco | 10seg\n",
    "  - T=32 | COM 1 | 4seg\n",
    "  - T=36 | Teclado | 3seg\n",
    "- T final debe ser de: 60"
   ]
  },
  {
   "cell_type": "code",
   "execution_count": 17,
   "id": "de11bba7",
   "metadata": {},
   "outputs": [
    {
     "data": {
      "text/plain": [
       "[(6, I(COM1 y COM3), 5),\n",
       " (15, I(Puerto Paralelo - Impresora), 8),\n",
       " (20, I(Canal IDE primario(Disco)), 10),\n",
       " (32, I(COM1 y COM3), 4),\n",
       " (36, I(Teclado), 3)]"
      ]
     },
     "execution_count": 17,
     "metadata": {},
     "output_type": "execute_result"
    }
   ],
   "source": [
    "# Prueba 1 pre armada, con lo definido antes\n",
    "prueba2 = Ejecucion(30)\n",
    "prueba2.anhadir_interrupcion(6, 4, 5)\n",
    "prueba2.anhadir_interrupcion(15, 7, 8)\n",
    "prueba2.anhadir_interrupcion(20, 14, 10)\n",
    "prueba2.anhadir_interrupcion(32, 4, 4)\n",
    "prueba2.anhadir_interrupcion(36, 1, 3)\n",
    "prueba2.interrupciones"
   ]
  },
  {
   "cell_type": "code",
   "execution_count": 18,
   "id": "da5ecbe0",
   "metadata": {},
   "outputs": [
    {
     "name": "stdout",
     "output_type": "stream",
     "text": [
      "Programa T= 0 T= 6\n",
      "COM1 y COM3 T= 6 T= 11\n",
      "Programa T= 11 T= 15\n",
      "Puerto Paralelo - Impresora T= 15 T= 20\n",
      "Canal IDE primario(Disco) T= 20 T= 30\n",
      "Puerto Paralelo - Impresora T= 30 T= 32\n",
      "COM1 y COM3 T= 32 T= 36\n",
      "Puerto Paralelo - Impresora T= 36 T= 36\n",
      "Teclado T= 36 T= 39\n",
      "Puerto Paralelo - Impresora T= 39 T= 40\n",
      "Programa T= 40 T= 60\n"
     ]
    }
   ],
   "source": [
    "prueba2.ver_resultado()"
   ]
  },
  {
   "cell_type": "code",
   "execution_count": null,
   "id": "c0ff80fd",
   "metadata": {},
   "outputs": [],
   "source": []
  }
 ],
 "metadata": {
  "kernelspec": {
   "display_name": "Python 3 (ipykernel)",
   "language": "python",
   "name": "python3"
  },
  "language_info": {
   "codemirror_mode": {
    "name": "ipython",
    "version": 3
   },
   "file_extension": ".py",
   "mimetype": "text/x-python",
   "name": "python",
   "nbconvert_exporter": "python",
   "pygments_lexer": "ipython3",
   "version": "3.11.7"
  }
 },
 "nbformat": 4,
 "nbformat_minor": 5
}
